{
 "cells": [
  {
   "cell_type": "code",
   "execution_count": 1,
   "metadata": {},
   "outputs": [],
   "source": [
    "#import wrds\n",
    "import pandas as pd\n",
    "import numpy as np\n",
    "%matplotlib inline\n",
    "import matplotlib.pyplot as plt\n",
    "import datetime\n",
    "from scipy import stats\n",
    "import pickle\n",
    "from pandas.tseries.offsets import BDay\n",
    "from pandas.tseries.offsets import DateOffset"
   ]
  },
  {
   "cell_type": "code",
   "execution_count": 2,
   "metadata": {},
   "outputs": [
    {
     "name": "stderr",
     "output_type": "stream",
     "text": [
      "Using TensorFlow backend.\n",
      "C:\\Users\\jiaxu\\Anaconda3\\envs\\py36\\lib\\site-packages\\tensorflow\\python\\framework\\dtypes.py:526: FutureWarning: Passing (type, 1) or '1type' as a synonym of type is deprecated; in a future version of numpy, it will be understood as (type, (1,)) / '(1,)type'.\n",
      "  _np_qint8 = np.dtype([(\"qint8\", np.int8, 1)])\n",
      "C:\\Users\\jiaxu\\Anaconda3\\envs\\py36\\lib\\site-packages\\tensorflow\\python\\framework\\dtypes.py:527: FutureWarning: Passing (type, 1) or '1type' as a synonym of type is deprecated; in a future version of numpy, it will be understood as (type, (1,)) / '(1,)type'.\n",
      "  _np_quint8 = np.dtype([(\"quint8\", np.uint8, 1)])\n",
      "C:\\Users\\jiaxu\\Anaconda3\\envs\\py36\\lib\\site-packages\\tensorflow\\python\\framework\\dtypes.py:528: FutureWarning: Passing (type, 1) or '1type' as a synonym of type is deprecated; in a future version of numpy, it will be understood as (type, (1,)) / '(1,)type'.\n",
      "  _np_qint16 = np.dtype([(\"qint16\", np.int16, 1)])\n",
      "C:\\Users\\jiaxu\\Anaconda3\\envs\\py36\\lib\\site-packages\\tensorflow\\python\\framework\\dtypes.py:529: FutureWarning: Passing (type, 1) or '1type' as a synonym of type is deprecated; in a future version of numpy, it will be understood as (type, (1,)) / '(1,)type'.\n",
      "  _np_quint16 = np.dtype([(\"quint16\", np.uint16, 1)])\n",
      "C:\\Users\\jiaxu\\Anaconda3\\envs\\py36\\lib\\site-packages\\tensorflow\\python\\framework\\dtypes.py:530: FutureWarning: Passing (type, 1) or '1type' as a synonym of type is deprecated; in a future version of numpy, it will be understood as (type, (1,)) / '(1,)type'.\n",
      "  _np_qint32 = np.dtype([(\"qint32\", np.int32, 1)])\n",
      "C:\\Users\\jiaxu\\Anaconda3\\envs\\py36\\lib\\site-packages\\tensorflow\\python\\framework\\dtypes.py:535: FutureWarning: Passing (type, 1) or '1type' as a synonym of type is deprecated; in a future version of numpy, it will be understood as (type, (1,)) / '(1,)type'.\n",
      "  np_resource = np.dtype([(\"resource\", np.ubyte, 1)])\n"
     ]
    }
   ],
   "source": [
    "from keras.utils import to_categorical\n",
    "from keras.models import Sequential\n",
    "from keras.layers import Dense\n",
    "from keras.callbacks import EarlyStopping"
   ]
  },
  {
   "cell_type": "code",
   "execution_count": 48,
   "metadata": {},
   "outputs": [],
   "source": [
    "feature = pd.read_csv(\"data\\\\features_11.csv\",index_col=0)\n",
    "target = pd.read_csv(\"data\\\\spx_target.csv\",index_col=0)\n",
    "target[\"var\"]  =  target[\"ann_vol_30\"]**2\n",
    "target[\"vix2\"]  =  target[\"vix\"]**2\n",
    "target[\"vrp\"] = target[\"vix2\"] - target[\"var\"]"
   ]
  },
  {
   "cell_type": "code",
   "execution_count": 49,
   "metadata": {
    "scrolled": true
   },
   "outputs": [
    {
     "data": {
      "text/html": [
       "<div>\n",
       "<style scoped>\n",
       "    .dataframe tbody tr th:only-of-type {\n",
       "        vertical-align: middle;\n",
       "    }\n",
       "\n",
       "    .dataframe tbody tr th {\n",
       "        vertical-align: top;\n",
       "    }\n",
       "\n",
       "    .dataframe thead th {\n",
       "        text-align: right;\n",
       "    }\n",
       "</style>\n",
       "<table border=\"1\" class=\"dataframe\">\n",
       "  <thead>\n",
       "    <tr style=\"text-align: right;\">\n",
       "      <th></th>\n",
       "      <th>ann_vol_30</th>\n",
       "      <th>vix</th>\n",
       "      <th>var</th>\n",
       "      <th>vix2</th>\n",
       "      <th>vrp</th>\n",
       "    </tr>\n",
       "  </thead>\n",
       "  <tbody>\n",
       "    <tr>\n",
       "      <th>1996-07-01</th>\n",
       "      <td>16.109703</td>\n",
       "      <td>13.78</td>\n",
       "      <td>259.522529</td>\n",
       "      <td>189.8884</td>\n",
       "      <td>-69.634129</td>\n",
       "    </tr>\n",
       "    <tr>\n",
       "      <th>1996-07-02</th>\n",
       "      <td>15.997377</td>\n",
       "      <td>14.19</td>\n",
       "      <td>255.916079</td>\n",
       "      <td>201.3561</td>\n",
       "      <td>-54.559979</td>\n",
       "    </tr>\n",
       "    <tr>\n",
       "      <th>1996-07-03</th>\n",
       "      <td>16.010210</td>\n",
       "      <td>14.21</td>\n",
       "      <td>256.326812</td>\n",
       "      <td>201.9241</td>\n",
       "      <td>-54.402712</td>\n",
       "    </tr>\n",
       "    <tr>\n",
       "      <th>1996-07-05</th>\n",
       "      <td>16.008138</td>\n",
       "      <td>16.09</td>\n",
       "      <td>256.260488</td>\n",
       "      <td>258.8881</td>\n",
       "      <td>2.627612</td>\n",
       "    </tr>\n",
       "    <tr>\n",
       "      <th>1996-07-08</th>\n",
       "      <td>14.684351</td>\n",
       "      <td>16.42</td>\n",
       "      <td>215.630153</td>\n",
       "      <td>269.6164</td>\n",
       "      <td>53.986247</td>\n",
       "    </tr>\n",
       "  </tbody>\n",
       "</table>\n",
       "</div>"
      ],
      "text/plain": [
       "            ann_vol_30    vix         var      vix2        vrp\n",
       "1996-07-01   16.109703  13.78  259.522529  189.8884 -69.634129\n",
       "1996-07-02   15.997377  14.19  255.916079  201.3561 -54.559979\n",
       "1996-07-03   16.010210  14.21  256.326812  201.9241 -54.402712\n",
       "1996-07-05   16.008138  16.09  256.260488  258.8881   2.627612\n",
       "1996-07-08   14.684351  16.42  215.630153  269.6164  53.986247"
      ]
     },
     "execution_count": 49,
     "metadata": {},
     "output_type": "execute_result"
    }
   ],
   "source": [
    "feature_ffill = feature.fillna(method='ffill')\n",
    "feature_ffill.head()\n",
    "target.head()"
   ]
  },
  {
   "cell_type": "markdown",
   "metadata": {},
   "source": [
    "# regression"
   ]
  },
  {
   "cell_type": "code",
   "execution_count": null,
   "metadata": {},
   "outputs": [],
   "source": []
  },
  {
   "cell_type": "code",
   "execution_count": 58,
   "metadata": {},
   "outputs": [],
   "source": [
    "from sklearn.linear_model import LinearRegression\n",
    "from sklearn.linear_model import Ridge\n",
    "from sklearn.linear_model import Lasso\n",
    "from sklearn.ensemble import RandomForestRegressor\n",
    "from sklearn.metrics import r2_score\n",
    "t = 30"
   ]
  },
  {
   "cell_type": "code",
   "execution_count": 79,
   "metadata": {},
   "outputs": [],
   "source": [
    "x_train = feature_ffill.iloc[:1000,:]\n",
    "y_train = target.iloc[:1000,-1]"
   ]
  },
  {
   "cell_type": "code",
   "execution_count": 80,
   "metadata": {},
   "outputs": [],
   "source": [
    "x_test = feature_ffill.iloc[:1000+t,:]\n",
    "y_test = feature_ffill.iloc[:1000+t,-1]"
   ]
  },
  {
   "cell_type": "code",
   "execution_count": 81,
   "metadata": {},
   "outputs": [
    {
     "data": {
      "text/plain": [
       "-1220.861478290816"
      ]
     },
     "execution_count": 81,
     "metadata": {},
     "output_type": "execute_result"
    }
   ],
   "source": [
    "reg = LinearRegression().fit(x_train, y_train)\n",
    "y_pred = reg.predict(x_test)\n",
    "r2_score(y_test,y_pred)"
   ]
  },
  {
   "cell_type": "code",
   "execution_count": 82,
   "metadata": {},
   "outputs": [
    {
     "data": {
      "text/plain": [
       "-1220.856746474116"
      ]
     },
     "execution_count": 82,
     "metadata": {},
     "output_type": "execute_result"
    }
   ],
   "source": [
    "reg = Ridge(alpha=0.1).fit(x_train, y_train)\n",
    "y_pred = reg.predict(x_test)\n",
    "r2_score(y_test,y_pred)"
   ]
  },
  {
   "cell_type": "code",
   "execution_count": 1,
   "metadata": {},
   "outputs": [],
   "source": [
    "x=3"
   ]
  },
  {
   "cell_type": "code",
   "execution_count": 1,
   "metadata": {},
   "outputs": [],
   "source": [
    "xy=12"
   ]
  },
  {
   "cell_type": "code",
   "execution_count": null,
   "metadata": {},
   "outputs": [],
   "source": [
    "regrf = RandomForestRegressor(max_depth=3, random_state=0).fit(x_train, y_train)\n",
    "y_pred = regrf.predict(x_test)\n",
    "r2_score(y_test,y_pred)"
   ]
  },
  {
   "cell_type": "markdown",
   "metadata": {},
   "source": [
    "# Neural Network"
   ]
  },
  {
   "cell_type": "code",
   "execution_count": 77,
   "metadata": {},
   "outputs": [],
   "source": [
    "target=pd.read_csv('data/target.csv',index_col=0)\n",
    "target.index=pd.to_datetime(target.index)\n",
    "optionp_5=pd.read_csv('data/resultdf_5.csv',index_col=0)\n",
    "optionp_5.index=pd.to_datetime(optionp_5.index)\n"
   ]
  },
  {
   "cell_type": "code",
   "execution_count": 78,
   "metadata": {},
   "outputs": [],
   "source": [
    "optionday=optionp_5.index.unique()"
   ]
  },
  {
   "cell_type": "code",
   "execution_count": 80,
   "metadata": {},
   "outputs": [],
   "source": [
    "X=optionp_5['scaled_price'].values.reshape(-1,11)\n",
    "feature_5=pd.DataFrame(X,index=optionday,columns=['K'+str(i) for i in range(11)])"
   ]
  },
  {
   "cell_type": "code",
   "execution_count": 81,
   "metadata": {},
   "outputs": [
    {
     "data": {
      "text/html": [
       "<div>\n",
       "<style scoped>\n",
       "    .dataframe tbody tr th:only-of-type {\n",
       "        vertical-align: middle;\n",
       "    }\n",
       "\n",
       "    .dataframe tbody tr th {\n",
       "        vertical-align: top;\n",
       "    }\n",
       "\n",
       "    .dataframe thead th {\n",
       "        text-align: right;\n",
       "    }\n",
       "</style>\n",
       "<table border=\"1\" class=\"dataframe\">\n",
       "  <thead>\n",
       "    <tr style=\"text-align: right;\">\n",
       "      <th></th>\n",
       "      <th>K0</th>\n",
       "      <th>K1</th>\n",
       "      <th>K2</th>\n",
       "      <th>K3</th>\n",
       "      <th>K4</th>\n",
       "      <th>K5</th>\n",
       "      <th>K6</th>\n",
       "      <th>K7</th>\n",
       "      <th>K8</th>\n",
       "      <th>K9</th>\n",
       "      <th>K10</th>\n",
       "    </tr>\n",
       "    <tr>\n",
       "      <th>date</th>\n",
       "      <th></th>\n",
       "      <th></th>\n",
       "      <th></th>\n",
       "      <th></th>\n",
       "      <th></th>\n",
       "      <th></th>\n",
       "      <th></th>\n",
       "      <th></th>\n",
       "      <th></th>\n",
       "      <th></th>\n",
       "      <th></th>\n",
       "    </tr>\n",
       "  </thead>\n",
       "  <tbody>\n",
       "    <tr>\n",
       "      <th>1996-06-03</th>\n",
       "      <td>0.005705</td>\n",
       "      <td>0.006471</td>\n",
       "      <td>0.007610</td>\n",
       "      <td>0.009402</td>\n",
       "      <td>0.011184</td>\n",
       "      <td>0.014999</td>\n",
       "      <td>0.015815</td>\n",
       "      <td>0.012285</td>\n",
       "      <td>0.008892</td>\n",
       "      <td>0.006517</td>\n",
       "      <td>0.004495</td>\n",
       "    </tr>\n",
       "    <tr>\n",
       "      <th>1996-06-04</th>\n",
       "      <td>0.003995</td>\n",
       "      <td>0.005745</td>\n",
       "      <td>0.008133</td>\n",
       "      <td>0.014868</td>\n",
       "      <td>0.016391</td>\n",
       "      <td>0.011108</td>\n",
       "      <td>0.009077</td>\n",
       "      <td>0.007661</td>\n",
       "      <td>0.006291</td>\n",
       "      <td>0.005399</td>\n",
       "      <td>0.010969</td>\n",
       "    </tr>\n",
       "    <tr>\n",
       "      <th>1996-06-05</th>\n",
       "      <td>0.004219</td>\n",
       "      <td>0.005919</td>\n",
       "      <td>0.008230</td>\n",
       "      <td>0.011317</td>\n",
       "      <td>0.014936</td>\n",
       "      <td>0.014367</td>\n",
       "      <td>0.008606</td>\n",
       "      <td>0.007068</td>\n",
       "      <td>0.005979</td>\n",
       "      <td>0.004751</td>\n",
       "      <td>0.010481</td>\n",
       "    </tr>\n",
       "    <tr>\n",
       "      <th>1996-06-06</th>\n",
       "      <td>0.011627</td>\n",
       "      <td>0.004586</td>\n",
       "      <td>0.006386</td>\n",
       "      <td>0.008622</td>\n",
       "      <td>0.015602</td>\n",
       "      <td>0.008111</td>\n",
       "      <td>0.011560</td>\n",
       "      <td>0.009612</td>\n",
       "      <td>0.017048</td>\n",
       "      <td>0.006731</td>\n",
       "      <td>0.005814</td>\n",
       "    </tr>\n",
       "    <tr>\n",
       "      <th>1996-06-07</th>\n",
       "      <td>0.006014</td>\n",
       "      <td>0.008287</td>\n",
       "      <td>0.011512</td>\n",
       "      <td>0.015098</td>\n",
       "      <td>0.014036</td>\n",
       "      <td>0.004252</td>\n",
       "      <td>0.008458</td>\n",
       "      <td>0.007116</td>\n",
       "      <td>0.005989</td>\n",
       "      <td>0.003876</td>\n",
       "      <td>0.010332</td>\n",
       "    </tr>\n",
       "  </tbody>\n",
       "</table>\n",
       "</div>"
      ],
      "text/plain": [
       "                  K0        K1        K2        K3        K4        K5  \\\n",
       "date                                                                     \n",
       "1996-06-03  0.005705  0.006471  0.007610  0.009402  0.011184  0.014999   \n",
       "1996-06-04  0.003995  0.005745  0.008133  0.014868  0.016391  0.011108   \n",
       "1996-06-05  0.004219  0.005919  0.008230  0.011317  0.014936  0.014367   \n",
       "1996-06-06  0.011627  0.004586  0.006386  0.008622  0.015602  0.008111   \n",
       "1996-06-07  0.006014  0.008287  0.011512  0.015098  0.014036  0.004252   \n",
       "\n",
       "                  K6        K7        K8        K9       K10  \n",
       "date                                                          \n",
       "1996-06-03  0.015815  0.012285  0.008892  0.006517  0.004495  \n",
       "1996-06-04  0.009077  0.007661  0.006291  0.005399  0.010969  \n",
       "1996-06-05  0.008606  0.007068  0.005979  0.004751  0.010481  \n",
       "1996-06-06  0.011560  0.009612  0.017048  0.006731  0.005814  \n",
       "1996-06-07  0.008458  0.007116  0.005989  0.003876  0.010332  "
      ]
     },
     "execution_count": 81,
     "metadata": {},
     "output_type": "execute_result"
    }
   ],
   "source": [
    "feature_5.head()"
   ]
  },
  {
   "cell_type": "code",
   "execution_count": 82,
   "metadata": {},
   "outputs": [
    {
     "name": "stdout",
     "output_type": "stream",
     "text": [
      "1996-06-03 00:00:00\n",
      "1996-10-09 00:00:00\n"
     ]
    }
   ],
   "source": [
    "XYdf=target.join(feature_5,how='left').dropna(axis=0)\n",
    "# daylength=XYdf.index.unique()\n",
    "# startdate=daylength[0]\n",
    "# enddate=daylength[1000]\n",
    "\n",
    "print(startdate)\n",
    "print(enddate)"
   ]
  },
  {
   "cell_type": "code",
   "execution_count": 83,
   "metadata": {},
   "outputs": [
    {
     "data": {
      "text/html": [
       "<div>\n",
       "<style scoped>\n",
       "    .dataframe tbody tr th:only-of-type {\n",
       "        vertical-align: middle;\n",
       "    }\n",
       "\n",
       "    .dataframe tbody tr th {\n",
       "        vertical-align: top;\n",
       "    }\n",
       "\n",
       "    .dataframe thead th {\n",
       "        text-align: right;\n",
       "    }\n",
       "</style>\n",
       "<table border=\"1\" class=\"dataframe\">\n",
       "  <thead>\n",
       "    <tr style=\"text-align: right;\">\n",
       "      <th></th>\n",
       "      <th>vix</th>\n",
       "      <th>annual_vol</th>\n",
       "      <th>vrp</th>\n",
       "      <th>K0</th>\n",
       "      <th>K1</th>\n",
       "      <th>K2</th>\n",
       "      <th>K3</th>\n",
       "      <th>K4</th>\n",
       "      <th>K5</th>\n",
       "      <th>K6</th>\n",
       "      <th>K7</th>\n",
       "      <th>K8</th>\n",
       "      <th>K9</th>\n",
       "      <th>K10</th>\n",
       "    </tr>\n",
       "    <tr>\n",
       "      <th>date</th>\n",
       "      <th></th>\n",
       "      <th></th>\n",
       "      <th></th>\n",
       "      <th></th>\n",
       "      <th></th>\n",
       "      <th></th>\n",
       "      <th></th>\n",
       "      <th></th>\n",
       "      <th></th>\n",
       "      <th></th>\n",
       "      <th></th>\n",
       "      <th></th>\n",
       "      <th></th>\n",
       "      <th></th>\n",
       "    </tr>\n",
       "  </thead>\n",
       "  <tbody>\n",
       "    <tr>\n",
       "      <th>1996-06-03</th>\n",
       "      <td>16.86</td>\n",
       "      <td>10.062299</td>\n",
       "      <td>183.009739</td>\n",
       "      <td>0.005705</td>\n",
       "      <td>0.006471</td>\n",
       "      <td>0.007610</td>\n",
       "      <td>0.009402</td>\n",
       "      <td>0.011184</td>\n",
       "      <td>0.014999</td>\n",
       "      <td>0.015815</td>\n",
       "      <td>0.012285</td>\n",
       "      <td>0.008892</td>\n",
       "      <td>0.006517</td>\n",
       "      <td>0.004495</td>\n",
       "    </tr>\n",
       "    <tr>\n",
       "      <th>1996-06-04</th>\n",
       "      <td>16.18</td>\n",
       "      <td>10.178271</td>\n",
       "      <td>158.195190</td>\n",
       "      <td>0.003995</td>\n",
       "      <td>0.005745</td>\n",
       "      <td>0.008133</td>\n",
       "      <td>0.014868</td>\n",
       "      <td>0.016391</td>\n",
       "      <td>0.011108</td>\n",
       "      <td>0.009077</td>\n",
       "      <td>0.007661</td>\n",
       "      <td>0.006291</td>\n",
       "      <td>0.005399</td>\n",
       "      <td>0.010969</td>\n",
       "    </tr>\n",
       "    <tr>\n",
       "      <th>1996-06-05</th>\n",
       "      <td>16.04</td>\n",
       "      <td>10.329438</td>\n",
       "      <td>150.584307</td>\n",
       "      <td>0.004219</td>\n",
       "      <td>0.005919</td>\n",
       "      <td>0.008230</td>\n",
       "      <td>0.011317</td>\n",
       "      <td>0.014936</td>\n",
       "      <td>0.014367</td>\n",
       "      <td>0.008606</td>\n",
       "      <td>0.007068</td>\n",
       "      <td>0.005979</td>\n",
       "      <td>0.004751</td>\n",
       "      <td>0.010481</td>\n",
       "    </tr>\n",
       "    <tr>\n",
       "      <th>1996-06-06</th>\n",
       "      <td>16.84</td>\n",
       "      <td>10.636130</td>\n",
       "      <td>170.458349</td>\n",
       "      <td>0.011627</td>\n",
       "      <td>0.004586</td>\n",
       "      <td>0.006386</td>\n",
       "      <td>0.008622</td>\n",
       "      <td>0.015602</td>\n",
       "      <td>0.008111</td>\n",
       "      <td>0.011560</td>\n",
       "      <td>0.009612</td>\n",
       "      <td>0.017048</td>\n",
       "      <td>0.006731</td>\n",
       "      <td>0.005814</td>\n",
       "    </tr>\n",
       "    <tr>\n",
       "      <th>1996-06-07</th>\n",
       "      <td>16.10</td>\n",
       "      <td>10.599811</td>\n",
       "      <td>146.854004</td>\n",
       "      <td>0.006014</td>\n",
       "      <td>0.008287</td>\n",
       "      <td>0.011512</td>\n",
       "      <td>0.015098</td>\n",
       "      <td>0.014036</td>\n",
       "      <td>0.004252</td>\n",
       "      <td>0.008458</td>\n",
       "      <td>0.007116</td>\n",
       "      <td>0.005989</td>\n",
       "      <td>0.003876</td>\n",
       "      <td>0.010332</td>\n",
       "    </tr>\n",
       "  </tbody>\n",
       "</table>\n",
       "</div>"
      ],
      "text/plain": [
       "              vix  annual_vol         vrp        K0        K1        K2  \\\n",
       "date                                                                      \n",
       "1996-06-03  16.86   10.062299  183.009739  0.005705  0.006471  0.007610   \n",
       "1996-06-04  16.18   10.178271  158.195190  0.003995  0.005745  0.008133   \n",
       "1996-06-05  16.04   10.329438  150.584307  0.004219  0.005919  0.008230   \n",
       "1996-06-06  16.84   10.636130  170.458349  0.011627  0.004586  0.006386   \n",
       "1996-06-07  16.10   10.599811  146.854004  0.006014  0.008287  0.011512   \n",
       "\n",
       "                  K3        K4        K5        K6        K7        K8  \\\n",
       "date                                                                     \n",
       "1996-06-03  0.009402  0.011184  0.014999  0.015815  0.012285  0.008892   \n",
       "1996-06-04  0.014868  0.016391  0.011108  0.009077  0.007661  0.006291   \n",
       "1996-06-05  0.011317  0.014936  0.014367  0.008606  0.007068  0.005979   \n",
       "1996-06-06  0.008622  0.015602  0.008111  0.011560  0.009612  0.017048   \n",
       "1996-06-07  0.015098  0.014036  0.004252  0.008458  0.007116  0.005989   \n",
       "\n",
       "                  K9       K10  \n",
       "date                            \n",
       "1996-06-03  0.006517  0.004495  \n",
       "1996-06-04  0.005399  0.010969  \n",
       "1996-06-05  0.004751  0.010481  \n",
       "1996-06-06  0.006731  0.005814  \n",
       "1996-06-07  0.003876  0.010332  "
      ]
     },
     "execution_count": 83,
     "metadata": {},
     "output_type": "execute_result"
    }
   ],
   "source": [
    "XYdf.head()"
   ]
  },
  {
   "cell_type": "code",
   "execution_count": 84,
   "metadata": {},
   "outputs": [],
   "source": [
    "ytrain=XYdf['vrp'].iloc[:900]\n",
    "xtrain=XYdf.iloc[:900,3:]\n",
    "yvalidate=XYdf['vrp'].iloc[900:1000]\n",
    "xvalidate=XYdf.iloc[900:1000,3:]\n",
    "ytest=XYdf['vrp'].iloc[1000:]\n",
    "xttest=XYdf.iloc[1000:,3:]"
   ]
  },
  {
   "cell_type": "code",
   "execution_count": 85,
   "metadata": {},
   "outputs": [
    {
     "name": "stdout",
     "output_type": "stream",
     "text": [
      "[0.01560971 0.01533298 0.0167024  0.01838374 0.01910858 0.01910865\n",
      " 0.01843014 0.01706483 0.01584995 0.01501029 0.01663052]\n"
     ]
    }
   ],
   "source": [
    "from sklearn.preprocessing import StandardScaler\n",
    "scaler = StandardScaler()\n",
    "scaler.fit(xtrain.values)\n",
    "\n",
    "print(scaler.mean_)\n",
    "\n",
    "\n"
   ]
  },
  {
   "cell_type": "code",
   "execution_count": 86,
   "metadata": {},
   "outputs": [
    {
     "name": "stderr",
     "output_type": "stream",
     "text": [
      "C:\\Users\\jiaxu\\Anaconda3\\envs\\py36\\lib\\site-packages\\sklearn\\neural_network\\_multilayer_perceptron.py:571: ConvergenceWarning: Stochastic Optimizer: Maximum iterations (200) reached and the optimization hasn't converged yet.\n",
      "  % self.max_iter, ConvergenceWarning)\n"
     ]
    },
    {
     "name": "stdout",
     "output_type": "stream",
     "text": [
      "0.01 -0.341479585602132\n"
     ]
    },
    {
     "name": "stderr",
     "output_type": "stream",
     "text": [
      "C:\\Users\\jiaxu\\Anaconda3\\envs\\py36\\lib\\site-packages\\sklearn\\neural_network\\_multilayer_perceptron.py:571: ConvergenceWarning: Stochastic Optimizer: Maximum iterations (200) reached and the optimization hasn't converged yet.\n",
      "  % self.max_iter, ConvergenceWarning)\n"
     ]
    },
    {
     "name": "stdout",
     "output_type": "stream",
     "text": [
      "0.1 -0.3156013228157646\n"
     ]
    },
    {
     "name": "stderr",
     "output_type": "stream",
     "text": [
      "C:\\Users\\jiaxu\\Anaconda3\\envs\\py36\\lib\\site-packages\\sklearn\\neural_network\\_multilayer_perceptron.py:571: ConvergenceWarning: Stochastic Optimizer: Maximum iterations (200) reached and the optimization hasn't converged yet.\n",
      "  % self.max_iter, ConvergenceWarning)\n"
     ]
    },
    {
     "name": "stdout",
     "output_type": "stream",
     "text": [
      "1.0 -0.3116029475083175\n"
     ]
    },
    {
     "name": "stderr",
     "output_type": "stream",
     "text": [
      "C:\\Users\\jiaxu\\Anaconda3\\envs\\py36\\lib\\site-packages\\sklearn\\neural_network\\_multilayer_perceptron.py:571: ConvergenceWarning: Stochastic Optimizer: Maximum iterations (200) reached and the optimization hasn't converged yet.\n",
      "  % self.max_iter, ConvergenceWarning)\n"
     ]
    },
    {
     "name": "stdout",
     "output_type": "stream",
     "text": [
      "1 -0.1957439994858099\n"
     ]
    },
    {
     "name": "stderr",
     "output_type": "stream",
     "text": [
      "C:\\Users\\jiaxu\\Anaconda3\\envs\\py36\\lib\\site-packages\\sklearn\\neural_network\\_multilayer_perceptron.py:571: ConvergenceWarning: Stochastic Optimizer: Maximum iterations (200) reached and the optimization hasn't converged yet.\n",
      "  % self.max_iter, ConvergenceWarning)\n"
     ]
    },
    {
     "name": "stdout",
     "output_type": "stream",
     "text": [
      "1000.0 -0.6942106290198868\n"
     ]
    },
    {
     "name": "stderr",
     "output_type": "stream",
     "text": [
      "C:\\Users\\jiaxu\\Anaconda3\\envs\\py36\\lib\\site-packages\\sklearn\\neural_network\\_multilayer_perceptron.py:571: ConvergenceWarning: Stochastic Optimizer: Maximum iterations (200) reached and the optimization hasn't converged yet.\n",
      "  % self.max_iter, ConvergenceWarning)\n"
     ]
    },
    {
     "name": "stdout",
     "output_type": "stream",
     "text": [
      "10000.0 -0.13442900181894624\n",
      "100000.0 -0.0012255133602763202\n"
     ]
    },
    {
     "name": "stderr",
     "output_type": "stream",
     "text": [
      "C:\\Users\\jiaxu\\Anaconda3\\envs\\py36\\lib\\site-packages\\sklearn\\neural_network\\_multilayer_perceptron.py:571: ConvergenceWarning: Stochastic Optimizer: Maximum iterations (200) reached and the optimization hasn't converged yet.\n",
      "  % self.max_iter, ConvergenceWarning)\n"
     ]
    }
   ],
   "source": [
    "from sklearn.neural_network import MLPRegressor\n",
    "from sklearn.datasets import make_regression\n",
    "\n",
    "\n",
    "\n",
    "l2range=[10e-3,10e-2, 10e-1, 1, 10e2, 10e3, 10e4]\n",
    "for alpha in l2range:\n",
    "    regr = MLPRegressor(activation='relu',solver='adam',hidden_layer_sizes=(11,),alpha=alpha,verbose=False).\\\n",
    "    fit(scaler.transform(xtrain.values), ytrain.values)\n",
    "    print(alpha,regr.score(scaler.transform(xvalidate.values), yvalidate.values))\n"
   ]
  },
  {
   "cell_type": "code",
   "execution_count": 87,
   "metadata": {},
   "outputs": [
    {
     "data": {
      "text/plain": [
       "3"
      ]
     },
     "execution_count": 87,
     "metadata": {},
     "output_type": "execute_result"
    }
   ],
   "source": [
    "regr.n_layers_"
   ]
  },
  {
   "cell_type": "code",
   "execution_count": null,
   "metadata": {},
   "outputs": [],
   "source": []
  }
 ],
 "metadata": {
  "kernelspec": {
   "display_name": "Python 3",
   "language": "python",
   "name": "python3"
  },
  "language_info": {
   "codemirror_mode": {
    "name": "ipython",
    "version": 3
   },
   "file_extension": ".py",
   "mimetype": "text/x-python",
   "name": "python",
   "nbconvert_exporter": "python",
   "pygments_lexer": "ipython3",
   "version": "3.6.10"
  }
 },
 "nbformat": 4,
 "nbformat_minor": 2
}
