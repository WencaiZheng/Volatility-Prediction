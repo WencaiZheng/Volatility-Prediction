{
 "cells": [
  {
   "cell_type": "code",
   "execution_count": 3,
   "metadata": {},
   "outputs": [],
   "source": [
    "import wrds\n",
    "import pandas as pd\n",
    "import numpy as np\n",
    "%matplotlib inline\n",
    "import matplotlib.pyplot as plt\n",
    "import datetime\n",
    "from scipy import stats\n",
    "import pickle\n",
    "from pandas.tseries.offsets import BDay\n",
    "from pandas.tseries.offsets import DateOffset"
   ]
  },
  {
   "cell_type": "code",
   "execution_count": 1,
   "metadata": {},
   "outputs": [
    {
     "name": "stderr",
     "output_type": "stream",
     "text": [
      "Using TensorFlow backend.\n",
      "C:\\Users\\jiaxu\\Anaconda3\\envs\\py36\\lib\\site-packages\\tensorflow\\python\\framework\\dtypes.py:526: FutureWarning: Passing (type, 1) or '1type' as a synonym of type is deprecated; in a future version of numpy, it will be understood as (type, (1,)) / '(1,)type'.\n",
      "  _np_qint8 = np.dtype([(\"qint8\", np.int8, 1)])\n",
      "C:\\Users\\jiaxu\\Anaconda3\\envs\\py36\\lib\\site-packages\\tensorflow\\python\\framework\\dtypes.py:527: FutureWarning: Passing (type, 1) or '1type' as a synonym of type is deprecated; in a future version of numpy, it will be understood as (type, (1,)) / '(1,)type'.\n",
      "  _np_quint8 = np.dtype([(\"quint8\", np.uint8, 1)])\n",
      "C:\\Users\\jiaxu\\Anaconda3\\envs\\py36\\lib\\site-packages\\tensorflow\\python\\framework\\dtypes.py:528: FutureWarning: Passing (type, 1) or '1type' as a synonym of type is deprecated; in a future version of numpy, it will be understood as (type, (1,)) / '(1,)type'.\n",
      "  _np_qint16 = np.dtype([(\"qint16\", np.int16, 1)])\n",
      "C:\\Users\\jiaxu\\Anaconda3\\envs\\py36\\lib\\site-packages\\tensorflow\\python\\framework\\dtypes.py:529: FutureWarning: Passing (type, 1) or '1type' as a synonym of type is deprecated; in a future version of numpy, it will be understood as (type, (1,)) / '(1,)type'.\n",
      "  _np_quint16 = np.dtype([(\"quint16\", np.uint16, 1)])\n",
      "C:\\Users\\jiaxu\\Anaconda3\\envs\\py36\\lib\\site-packages\\tensorflow\\python\\framework\\dtypes.py:530: FutureWarning: Passing (type, 1) or '1type' as a synonym of type is deprecated; in a future version of numpy, it will be understood as (type, (1,)) / '(1,)type'.\n",
      "  _np_qint32 = np.dtype([(\"qint32\", np.int32, 1)])\n",
      "C:\\Users\\jiaxu\\Anaconda3\\envs\\py36\\lib\\site-packages\\tensorflow\\python\\framework\\dtypes.py:535: FutureWarning: Passing (type, 1) or '1type' as a synonym of type is deprecated; in a future version of numpy, it will be understood as (type, (1,)) / '(1,)type'.\n",
      "  np_resource = np.dtype([(\"resource\", np.ubyte, 1)])\n"
     ]
    }
   ],
   "source": [
    "from keras.utils import to_categorical\n",
    "from keras.models import Sequential\n",
    "from keras.layers import Dense\n",
    "from keras.callbacks import EarlyStopping"
   ]
  },
  {
   "cell_type": "code",
   "execution_count": 48,
   "metadata": {},
   "outputs": [],
   "source": [
    "feature = pd.read_csv(\"data\\\\features_11.csv\",index_col=0)\n",
    "target = pd.read_csv(\"data\\\\spx_target.csv\",index_col=0)\n",
    "target[\"var\"]  =  target[\"ann_vol_30\"]**2\n",
    "target[\"vix2\"]  =  target[\"vix\"]**2\n",
    "target[\"vrp\"] = target[\"vix2\"] - target[\"var\"]"
   ]
  },
  {
   "cell_type": "code",
   "execution_count": 49,
   "metadata": {},
   "outputs": [
    {
     "data": {
      "text/html": [
       "<div>\n",
       "<style scoped>\n",
       "    .dataframe tbody tr th:only-of-type {\n",
       "        vertical-align: middle;\n",
       "    }\n",
       "\n",
       "    .dataframe tbody tr th {\n",
       "        vertical-align: top;\n",
       "    }\n",
       "\n",
       "    .dataframe thead th {\n",
       "        text-align: right;\n",
       "    }\n",
       "</style>\n",
       "<table border=\"1\" class=\"dataframe\">\n",
       "  <thead>\n",
       "    <tr style=\"text-align: right;\">\n",
       "      <th></th>\n",
       "      <th>ann_vol_30</th>\n",
       "      <th>vix</th>\n",
       "      <th>var</th>\n",
       "      <th>vix2</th>\n",
       "      <th>vrp</th>\n",
       "    </tr>\n",
       "  </thead>\n",
       "  <tbody>\n",
       "    <tr>\n",
       "      <th>1996-07-01</th>\n",
       "      <td>16.109703</td>\n",
       "      <td>13.78</td>\n",
       "      <td>259.522529</td>\n",
       "      <td>189.8884</td>\n",
       "      <td>-69.634129</td>\n",
       "    </tr>\n",
       "    <tr>\n",
       "      <th>1996-07-02</th>\n",
       "      <td>15.997377</td>\n",
       "      <td>14.19</td>\n",
       "      <td>255.916079</td>\n",
       "      <td>201.3561</td>\n",
       "      <td>-54.559979</td>\n",
       "    </tr>\n",
       "    <tr>\n",
       "      <th>1996-07-03</th>\n",
       "      <td>16.010210</td>\n",
       "      <td>14.21</td>\n",
       "      <td>256.326812</td>\n",
       "      <td>201.9241</td>\n",
       "      <td>-54.402712</td>\n",
       "    </tr>\n",
       "    <tr>\n",
       "      <th>1996-07-05</th>\n",
       "      <td>16.008138</td>\n",
       "      <td>16.09</td>\n",
       "      <td>256.260488</td>\n",
       "      <td>258.8881</td>\n",
       "      <td>2.627612</td>\n",
       "    </tr>\n",
       "    <tr>\n",
       "      <th>1996-07-08</th>\n",
       "      <td>14.684351</td>\n",
       "      <td>16.42</td>\n",
       "      <td>215.630153</td>\n",
       "      <td>269.6164</td>\n",
       "      <td>53.986247</td>\n",
       "    </tr>\n",
       "  </tbody>\n",
       "</table>\n",
       "</div>"
      ],
      "text/plain": [
       "            ann_vol_30    vix         var      vix2        vrp\n",
       "1996-07-01   16.109703  13.78  259.522529  189.8884 -69.634129\n",
       "1996-07-02   15.997377  14.19  255.916079  201.3561 -54.559979\n",
       "1996-07-03   16.010210  14.21  256.326812  201.9241 -54.402712\n",
       "1996-07-05   16.008138  16.09  256.260488  258.8881   2.627612\n",
       "1996-07-08   14.684351  16.42  215.630153  269.6164  53.986247"
      ]
     },
     "execution_count": 49,
     "metadata": {},
     "output_type": "execute_result"
    }
   ],
   "source": [
    "feature_ffill = feature.fillna(method='ffill')\n",
    "feature_ffill.head()\n",
    "target.head()"
   ]
  },
  {
   "cell_type": "markdown",
   "metadata": {},
   "source": [
    "# regression"
   ]
  },
  {
   "cell_type": "code",
   "execution_count": 58,
   "metadata": {},
   "outputs": [],
   "source": [
    "from sklearn.linear_model import LinearRegression\n",
    "from sklearn.linear_model import Ridge\n",
    "from sklearn.linear_model import Lasso\n",
    "from sklearn.ensemble import RandomForestRegressor\n",
    "from sklearn.metrics import r2_score\n",
    "t = 30"
   ]
  },
  {
   "cell_type": "code",
   "execution_count": 79,
   "metadata": {},
   "outputs": [],
   "source": [
    "x_train = feature_ffill.iloc[:1000,:]\n",
    "y_train = target.iloc[:1000,-1]"
   ]
  },
  {
   "cell_type": "code",
   "execution_count": 80,
   "metadata": {},
   "outputs": [],
   "source": [
    "x_test = feature_ffill.iloc[:1000+t,:]\n",
    "y_test = feature_ffill.iloc[:1000+t,-1]"
   ]
  },
  {
   "cell_type": "code",
   "execution_count": 81,
   "metadata": {},
   "outputs": [
    {
     "data": {
      "text/plain": [
       "-1220.861478290816"
      ]
     },
     "execution_count": 81,
     "metadata": {},
     "output_type": "execute_result"
    }
   ],
   "source": [
    "reg = LinearRegression().fit(x_train, y_train)\n",
    "y_pred = reg.predict(x_test)\n",
    "r2_score(y_test,y_pred)"
   ]
  },
  {
   "cell_type": "code",
   "execution_count": 82,
   "metadata": {},
   "outputs": [
    {
     "data": {
      "text/plain": [
       "-1220.856746474116"
      ]
     },
     "execution_count": 82,
     "metadata": {},
     "output_type": "execute_result"
    }
   ],
   "source": [
    "reg = Ridge(alpha=0.1).fit(x_train, y_train)\n",
    "y_pred = reg.predict(x_test)\n",
    "r2_score(y_test,y_pred)"
   ]
  },
  {
   "cell_type": "code",
   "execution_count": 1,
   "metadata": {},
   "outputs": [],
   "source": [
    "x=3"
   ]
  },
  {
   "cell_type": "code",
   "execution_count": 1,
   "metadata": {},
   "outputs": [],
   "source": [
    "xy=12"
   ]
  },
  {
   "cell_type": "code",
   "execution_count": null,
   "metadata": {},
   "outputs": [],
   "source": [
    "regrf = RandomForestRegressor(max_depth=3, random_state=0).fit(x_train, y_train)\n",
    "y_pred = regrf.predict(x_test)\n",
    "r2_score(y_test,y_pred)"
   ]
  },
  {
   "cell_type": "markdown",
   "metadata": {},
   "source": [
    "# Neural Network"
   ]
  },
  {
   "cell_type": "code",
   "execution_count": null,
   "metadata": {},
   "outputs": [],
   "source": [
    "from sklearn.preprocessing import MinMaxScaler\n",
    "\n",
    "sc = MinMaxScaler(feature_range = (0, 1))\n",
    "trainingXscaled = sc.fit_transform(trainX)\n",
    "testXscaled=sc.transform(testX)\n",
    "trainingXscaled=trainingXscaled.reshape((-1, 3))\n",
    "testXscaled=testXscaled.reshape((-1,3))"
   ]
  }
 ],
 "metadata": {
  "kernelspec": {
   "display_name": "Python 3",
   "language": "python",
   "name": "python3"
  },
  "language_info": {
   "codemirror_mode": {
    "name": "ipython",
    "version": 3
   },
   "file_extension": ".py",
   "mimetype": "text/x-python",
   "name": "python",
   "nbconvert_exporter": "python",
   "pygments_lexer": "ipython3",
   "version": "3.6.10"
  }
 },
 "nbformat": 4,
 "nbformat_minor": 2
}
