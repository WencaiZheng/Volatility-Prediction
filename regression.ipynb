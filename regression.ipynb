{
 "cells": [
  {
   "cell_type": "code",
   "execution_count": 24,
   "metadata": {},
   "outputs": [],
   "source": [
    "import wrds\n",
    "import pandas as pd\n",
    "import numpy as np\n",
    "%matplotlib inline\n",
    "import matplotlib.pyplot as plt\n",
    "import datetime\n",
    "from scipy import stats\n",
    "import pickle\n",
    "from pandas.tseries.offsets import BDay\n",
    "from pandas.tseries.offsets import DateOffset"
   ]
  },
  {
   "cell_type": "code",
   "execution_count": 48,
   "metadata": {},
   "outputs": [],
   "source": [
    "feature = pd.read_csv(\"data\\\\features_11.csv\",index_col=0)\n",
    "target = pd.read_csv(\"data\\\\spx_target.csv\",index_col=0)\n",
    "target[\"var\"]  =  target[\"ann_vol_30\"]**2\n",
    "target[\"vix2\"]  =  target[\"vix\"]**2\n",
    "target[\"vrp\"] = target[\"vix2\"] - target[\"var\"]"
   ]
  },
  {
   "cell_type": "code",
   "execution_count": 49,
   "metadata": {},
   "outputs": [
    {
     "output_type": "execute_result",
     "data": {
      "text/plain": "            ann_vol_30    vix         var      vix2        vrp\n1996-07-01   16.109703  13.78  259.522529  189.8884 -69.634129\n1996-07-02   15.997377  14.19  255.916079  201.3561 -54.559979\n1996-07-03   16.010210  14.21  256.326812  201.9241 -54.402712\n1996-07-05   16.008138  16.09  256.260488  258.8881   2.627612\n1996-07-08   14.684351  16.42  215.630153  269.6164  53.986247",
      "text/html": "<div>\n<style scoped>\n    .dataframe tbody tr th:only-of-type {\n        vertical-align: middle;\n    }\n\n    .dataframe tbody tr th {\n        vertical-align: top;\n    }\n\n    .dataframe thead th {\n        text-align: right;\n    }\n</style>\n<table border=\"1\" class=\"dataframe\">\n  <thead>\n    <tr style=\"text-align: right;\">\n      <th></th>\n      <th>ann_vol_30</th>\n      <th>vix</th>\n      <th>var</th>\n      <th>vix2</th>\n      <th>vrp</th>\n    </tr>\n  </thead>\n  <tbody>\n    <tr>\n      <th>1996-07-01</th>\n      <td>16.109703</td>\n      <td>13.78</td>\n      <td>259.522529</td>\n      <td>189.8884</td>\n      <td>-69.634129</td>\n    </tr>\n    <tr>\n      <th>1996-07-02</th>\n      <td>15.997377</td>\n      <td>14.19</td>\n      <td>255.916079</td>\n      <td>201.3561</td>\n      <td>-54.559979</td>\n    </tr>\n    <tr>\n      <th>1996-07-03</th>\n      <td>16.010210</td>\n      <td>14.21</td>\n      <td>256.326812</td>\n      <td>201.9241</td>\n      <td>-54.402712</td>\n    </tr>\n    <tr>\n      <th>1996-07-05</th>\n      <td>16.008138</td>\n      <td>16.09</td>\n      <td>256.260488</td>\n      <td>258.8881</td>\n      <td>2.627612</td>\n    </tr>\n    <tr>\n      <th>1996-07-08</th>\n      <td>14.684351</td>\n      <td>16.42</td>\n      <td>215.630153</td>\n      <td>269.6164</td>\n      <td>53.986247</td>\n    </tr>\n  </tbody>\n</table>\n</div>"
     },
     "metadata": {},
     "execution_count": 49
    }
   ],
   "source": [
    "feature_ffill = feature.fillna(method='ffill')\n",
    "feature_ffill.head()\n",
    "target.head()"
   ]
  },
  {
   "cell_type": "markdown",
   "metadata": {},
   "source": [
    "# regression"
   ]
  },
  {
   "cell_type": "code",
   "execution_count": 58,
   "metadata": {},
   "outputs": [],
   "source": [
    "from sklearn.linear_model import LinearRegression\n",
    "from sklearn.linear_model import Ridge\n",
    "from sklearn.linear_model import Lasso\n",
    "from sklearn.ensemble import RandomForestRegressor\n",
    "from sklearn.metrics import r2_score\n",
    "t = 30"
   ]
  },
  {
   "cell_type": "code",
   "execution_count": 79,
   "metadata": {},
   "outputs": [],
   "source": [
    "x_train = feature_ffill.iloc[:1000,:]\n",
    "y_train = target.iloc[:1000,-1]"
   ]
  },
  {
   "cell_type": "code",
   "execution_count": 80,
   "metadata": {},
   "outputs": [],
   "source": [
    "x_test = feature_ffill.iloc[:1000+t,:]\n",
    "y_test = feature_ffill.iloc[:1000+t,-1]"
   ]
  },
  {
   "cell_type": "code",
   "execution_count": 81,
   "metadata": {},
   "outputs": [
    {
     "output_type": "execute_result",
     "data": {
      "text/plain": "-1220.861478290816"
     },
     "metadata": {},
     "execution_count": 81
    }
   ],
   "source": [
    "reg = LinearRegression().fit(x_train, y_train)\n",
    "y_pred = reg.predict(x_test)\n",
    "r2_score(y_test,y_pred)"
   ]
  },
  {
   "cell_type": "code",
   "execution_count": 82,
   "metadata": {},
   "outputs": [
    {
     "output_type": "execute_result",
     "data": {
      "text/plain": "-1220.856746474116"
     },
     "metadata": {},
     "execution_count": 82
    }
   ],
   "source": [
    "reg = Ridge(alpha=0.1).fit(x_train, y_train)\n",
    "y_pred = reg.predict(x_test)\n",
    "r2_score(y_test,y_pred)"
   ]
  },
  {
   "cell_type": "code",
   "execution_count": 83,
   "metadata": {},
   "outputs": [
    {
     "output_type": "execute_result",
     "data": {
      "text/plain": "-1301.9892749230548"
     },
     "metadata": {},
     "execution_count": 83
    }
   ],
   "source": [
    "regrf = RandomForestRegressor(max_depth=3, random_state=0).fit(x_train, y_train)\n",
    "y_pred = regrf.predict(x_test)\n",
    "r2_score(y_test,y_pred)"
   ]
  },
  {
   "cell_type": "code",
   "execution_count": 1,
   "metadata": {},
   "outputs": [],
   "source": [
    "xy=12"
   ]
  },
  {
   "cell_type": "code",
   "execution_count": null,
   "metadata": {},
   "outputs": [],
   "source": []
  }
 ],
 "metadata": {
  "language_info": {
   "codemirror_mode": {
    "name": "ipython",
    "version": 3
   },
   "file_extension": ".py",
   "mimetype": "text/x-python",
   "name": "python",
   "nbconvert_exporter": "python",
   "pygments_lexer": "ipython3",
   "version": "3.7.3-final"
  },
  "orig_nbformat": 2,
  "kernelspec": {
   "name": "python3",
   "display_name": "Python 3"
  }
 },
 "nbformat": 4,
 "nbformat_minor": 2
}