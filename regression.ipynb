{
 "cells": [
  {
   "cell_type": "code",
   "execution_count": 2,
   "metadata": {},
   "outputs": [],
   "source": [
    "import wrds\n",
    "import pandas as pd\n",
    "import numpy as np\n",
    "%matplotlib inline\n",
    "import matplotlib.pyplot as plt\n",
    "import datetime\n",
    "from scipy import stats\n",
    "import pickle\n",
    "from pandas.tseries.offsets import BDay\n",
    "from pandas.tseries.offsets import DateOffset"
   ]
  },
  {
   "cell_type": "code",
   "execution_count": 3,
   "metadata": {},
   "outputs": [],
   "source": [
    "feature = pd.read_csv(\"data\\\\features_11.csv\",index_col=0)\n",
    "target = pd.read_csv(\"data\\\\spx_vol.csv\",index_col=0)"
   ]
  },
  {
   "cell_type": "code",
   "execution_count": 9,
   "metadata": {},
   "outputs": [
    {
     "output_type": "execute_result",
     "data": {
      "text/plain": "              close  log_return  variance_30    vol_30  ann_vol_30\n0                                                                 \n2019-06-24  2945.35   -0.001733     0.000076  0.008709    0.025240\n2019-06-25  2917.38   -0.009542     0.000076  0.008705    0.025230\n2019-06-26  2913.78   -0.001235     0.000058  0.007613    0.022064\n2019-06-27  2924.92    0.003816     0.000057  0.007519    0.021793\n2019-06-28  2941.76    0.005741     0.000056  0.007484    0.021692",
      "text/html": "<div>\n<style scoped>\n    .dataframe tbody tr th:only-of-type {\n        vertical-align: middle;\n    }\n\n    .dataframe tbody tr th {\n        vertical-align: top;\n    }\n\n    .dataframe thead th {\n        text-align: right;\n    }\n</style>\n<table border=\"1\" class=\"dataframe\">\n  <thead>\n    <tr style=\"text-align: right;\">\n      <th></th>\n      <th>close</th>\n      <th>log_return</th>\n      <th>variance_30</th>\n      <th>vol_30</th>\n      <th>ann_vol_30</th>\n    </tr>\n    <tr>\n      <th>0</th>\n      <th></th>\n      <th></th>\n      <th></th>\n      <th></th>\n      <th></th>\n    </tr>\n  </thead>\n  <tbody>\n    <tr>\n      <th>2019-06-24</th>\n      <td>2945.35</td>\n      <td>-0.001733</td>\n      <td>0.000076</td>\n      <td>0.008709</td>\n      <td>0.025240</td>\n    </tr>\n    <tr>\n      <th>2019-06-25</th>\n      <td>2917.38</td>\n      <td>-0.009542</td>\n      <td>0.000076</td>\n      <td>0.008705</td>\n      <td>0.025230</td>\n    </tr>\n    <tr>\n      <th>2019-06-26</th>\n      <td>2913.78</td>\n      <td>-0.001235</td>\n      <td>0.000058</td>\n      <td>0.007613</td>\n      <td>0.022064</td>\n    </tr>\n    <tr>\n      <th>2019-06-27</th>\n      <td>2924.92</td>\n      <td>0.003816</td>\n      <td>0.000057</td>\n      <td>0.007519</td>\n      <td>0.021793</td>\n    </tr>\n    <tr>\n      <th>2019-06-28</th>\n      <td>2941.76</td>\n      <td>0.005741</td>\n      <td>0.000056</td>\n      <td>0.007484</td>\n      <td>0.021692</td>\n    </tr>\n  </tbody>\n</table>\n</div>"
     },
     "metadata": {},
     "execution_count": 9
    }
   ],
   "source": [
    "feature_ffill = feature.fillna(method='ffill')\n",
    "feature_ffill.head()\n",
    "target.tail()"
   ]
  },
  {
   "cell_type": "markdown",
   "metadata": {},
   "source": [
    "# regression"
   ]
  },
  {
   "cell_type": "code",
   "execution_count": 12,
   "metadata": {},
   "outputs": [],
   "source": [
    "from sklearn.linear_model import LinearRegression\n",
    "from sklearn.linear_model import Ridge\n",
    "from sklearn.linear_model import Lasso\n",
    "from sklearn.ensemble import RandomForestRegressor"
   ]
  },
  {
   "cell_type": "code",
   "execution_count": 13,
   "metadata": {},
   "outputs": [],
   "source": [
    "x_train = feature_ffill.iloc[:1000,:]\n",
    "y_train = target.iloc[:1000,-1]"
   ]
  },
  {
   "cell_type": "code",
   "execution_count": 16,
   "metadata": {},
   "outputs": [
    {
     "output_type": "execute_result",
     "data": {
      "text/plain": "(1000,)"
     },
     "metadata": {},
     "execution_count": 16
    }
   ],
   "source": [
    "\n",
    "y_train.shape"
   ]
  },
  {
   "cell_type": "code",
   "execution_count": null,
   "metadata": {},
   "outputs": [],
   "source": []
  }
 ],
 "metadata": {
  "language_info": {
   "codemirror_mode": {
    "name": "ipython",
    "version": 3
   },
   "file_extension": ".py",
   "mimetype": "text/x-python",
   "name": "python",
   "nbconvert_exporter": "python",
   "pygments_lexer": "ipython3",
   "version": "3.7.3-final"
  },
  "orig_nbformat": 2,
  "kernelspec": {
   "name": "python3",
   "display_name": "Python 3"
  }
 },
 "nbformat": 4,
 "nbformat_minor": 2
}