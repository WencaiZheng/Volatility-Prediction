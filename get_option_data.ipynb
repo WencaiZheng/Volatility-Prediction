{
 "cells": [
  {
   "cell_type": "code",
   "execution_count": 1,
   "metadata": {
    "colab": {},
    "colab_type": "code",
    "id": "5-Afnh4DuAw4"
   },
   "outputs": [],
   "source": [
    "import wrds\n",
    "import pandas as pd\n",
    "import numpy as np\n",
    "%matplotlib inline\n",
    "import matplotlib.pyplot as plt\n",
    "import datetime\n",
    "from scipy import stats\n",
    "import pickle\n",
    "from pandas.tseries.offsets import BDay\n",
    "from pandas.tseries.offsets import DateOffset"
   ]
  },
  {
   "cell_type": "code",
   "execution_count": 3,
   "metadata": {
    "colab": {
     "base_uri": "https://localhost:8080/",
     "height": 306
    },
    "colab_type": "code",
    "executionInfo": {
     "elapsed": 14367,
     "status": "ok",
     "timestamp": 1588215836141,
     "user": {
      "displayName": "Sio Chon Ip",
      "photoUrl": "",
      "userId": "04647967252119042002"
     },
     "user_tz": 240
    },
    "id": "DmayDc-uuB5L",
    "outputId": "ed62b896-2db3-4c42-edac-79f52ba715f2"
   },
   "outputs": [
    {
     "output_type": "stream",
     "name": "stdout",
     "text": "WRDS recommends setting up a .pgpass file.\nYou can find more info here:\nhttps://www.postgresql.org/docs/9.5/static/libpq-pgpass.html.\nLoading library list...\nDone\n"
    }
   ],
   "source": [
    "db = wrds.Connection(wrds_username='novenwz')\n",
    "#db.create_pgpass_file()"
   ]
  },
  {
   "cell_type": "code",
   "execution_count": 2,
   "metadata": {
    "colab": {},
    "colab_type": "code",
    "id": "0DG_zlB3uFoJ"
   },
   "outputs": [],
   "source": [
    "# Get options data and security prices\n",
    "def GetData(stock):\n",
    "    # Find the security id\n",
    "    sql = '''\n",
    "    SELECT secid\n",
    "    FROM optionm.secnmd\n",
    "    WHERE ticker='%s'\n",
    "    ''' % stock\n",
    "    secid = db.raw_sql(sql).loc[:,'secid']\n",
    "    secid = np.unique(secid)\n",
    "    \n",
    "    df = pd.DataFrame()\n",
    "    # Keep track of the positino of secid\n",
    "    pos = 0\n",
    "    while df.empty and pos<=len(secid):\n",
    "        # Get the data for the options\n",
    "        sql = '''\n",
    "        SELECT secid, date, exdate, \n",
    "        strike_price, impl_volatility,open_interest,cp_flag,\n",
    "        forward_price,best_bid,best_offer\n",
    "        FROM optionm.opprcd2009\n",
    "        WHERE secid=%s\n",
    "        AND date >= '1996-06-30'\n",
    "        ORDER BY date ASC\n",
    "        ''' % (secid[pos])\n",
    "\n",
    "        df_2009 = db.raw_sql(sql)\n",
    "\n",
    "        years = range(1996,2019)\n",
    "\n",
    "        df10to19 = pd.DataFrame()\n",
    "        for year in years:\n",
    "            sql = '''\n",
    "            SELECT secid, date, exdate,\n",
    "            strike_price, impl_volatility,open_interest,cp_flag,\n",
    "            forward_price,best_bid,best_offer\n",
    "            FROM optionm.opprcd%d\n",
    "            WHERE secid=%s\n",
    "            ORDER BY date ASC\n",
    "            ''' % (year,secid[pos])\n",
    "\n",
    "            df10to19 = pd.concat([df10to19, db.raw_sql(sql)],axis=0)\n",
    "\n",
    "        sql = '''\n",
    "        SELECT secid, date, exdate, \n",
    "        strike_price, impl_volatility,open_interest,cp_flag,\n",
    "        forward_price,best_bid,best_offer\n",
    "        FROM optionm.opprcd2019\n",
    "        WHERE secid=%s\n",
    "        AND date <= '2019-06-30'\n",
    "\n",
    "        ORDER BY date ASC\n",
    "        ''' % (secid[pos])\n",
    "\n",
    "        df_2019 = db.raw_sql(sql)\n",
    "\n",
    "        df = pd.concat([df_2009,df10to19,df_2019],axis=0)\n",
    "        df = df.reset_index().drop(columns='index')\n",
    "\n",
    "        # Get the security prices\n",
    "        sql = '''\n",
    "        SELECT date, close\n",
    "        FROM optionm.secprd\n",
    "        WHERE secid=%s\n",
    "        AND date BETWEEN '1996-06-30' AND '2019-06-30'\n",
    "        ORDER BY date ASC\n",
    "        ''' % secid[pos]\n",
    "\n",
    "        price = db.raw_sql(sql)\n",
    "        close = price['close']\n",
    "        close.index = price['date']\n",
    "        pos+=1\n",
    "\n",
    "    return df, close"
   ]
  },
  {
   "cell_type": "code",
   "execution_count": 15,
   "metadata": {},
   "outputs": [],
   "source": [
    "sp = GetData(\"SPX\")"
   ]
  },
  {
   "cell_type": "code",
   "execution_count": 16,
   "metadata": {},
   "outputs": [
    {
     "output_type": "execute_result",
     "data": {
      "text/plain": "             secid        date      exdate  strike_price  impl_volatility  \\\n0         109820.0  2009-06-30  2010-12-31       60000.0         0.372396   \n1         109820.0  2009-06-30  2010-12-31       61000.0         0.370599   \n2         109820.0  2009-06-30  2010-12-31       62000.0         0.366784   \n3         109820.0  2009-06-30  2010-12-31       63000.0         0.364829   \n4         109820.0  2009-06-30  2010-12-31       64000.0         0.362576   \n5         109820.0  2009-06-30  2010-12-31       50000.0         0.398539   \n6         109820.0  2009-06-30  2010-12-18       95000.0         0.225161   \n7         109820.0  2009-06-30  2010-12-18       70000.0         0.238143   \n8         109820.0  2009-06-30  2010-12-18       45000.0              NaN   \n9         109820.0  2009-06-30  2010-12-18       20000.0              NaN   \n10        109820.0  2009-06-30  2010-12-18      100000.0         0.218972   \n11        109820.0  2009-06-30  2010-12-18       75000.0         0.248563   \n12        109820.0  2009-06-30  2010-12-18       50000.0              NaN   \n13        109820.0  2009-06-30  2010-12-18       25000.0              NaN   \n14        109820.0  2009-06-30  2010-12-18       80000.0         0.324857   \n15        109820.0  2009-06-30  2010-12-18       55000.0         0.387730   \n16        109820.0  2009-06-30  2010-12-18       30000.0         0.465249   \n17        109820.0  2009-06-30  2010-12-18       85000.0         0.315783   \n18        109820.0  2009-06-30  2010-12-18       60000.0         0.374907   \n19        109820.0  2009-06-30  2010-12-18       35000.0         0.447692   \n20        109820.0  2009-06-30  2010-12-18       90000.0         0.305931   \n21        109820.0  2009-06-30  2010-12-18       65000.0         0.360330   \n22        109820.0  2009-06-30  2010-12-18       40000.0         0.435282   \n23        109820.0  2009-06-30  2010-12-18       95000.0         0.297457   \n24        109820.0  2009-06-30  2010-12-18       70000.0         0.348618   \n25        109820.0  2009-06-30  2010-12-18       45000.0         0.416711   \n26        109820.0  2009-06-30  2010-12-18       20000.0         0.546584   \n27        109820.0  2009-06-30  2010-12-18      100000.0         0.290096   \n28        109820.0  2009-06-30  2010-12-18       75000.0         0.336923   \n29        109820.0  2009-06-30  2010-12-18       50000.0         0.398219   \n...            ...         ...         ...           ...              ...   \n10511182  109820.0  2019-06-28  2021-01-15      309000.0         0.139542   \n10511183  109820.0  2019-06-28  2021-01-15      310000.0         0.138470   \n10511184  109820.0  2019-06-28  2021-01-15      311000.0         0.137345   \n10511185  109820.0  2019-06-28  2021-01-15      312000.0         0.136152   \n10511186  109820.0  2019-06-28  2021-01-15      313000.0         0.134883   \n10511187  109820.0  2019-06-28  2021-01-15      314000.0         0.133537   \n10511188  109820.0  2019-06-28  2021-01-15      315000.0         0.132116   \n10511189  109820.0  2019-06-28  2021-01-15      316000.0         0.130613   \n10511190  109820.0  2019-06-28  2021-01-15      317000.0         0.129045   \n10511191  109820.0  2019-06-28  2021-01-15      318000.0         0.131287   \n10511192  109820.0  2019-06-28  2021-01-15      319000.0         0.129633   \n10511193  109820.0  2019-06-28  2021-01-15      320000.0         0.127902   \n10511194  109820.0  2019-06-28  2021-01-15      321000.0         0.126050   \n10511195  109820.0  2019-06-28  2021-01-15      322000.0         0.124077   \n10511196  109820.0  2019-06-28  2021-01-15      323000.0         0.126153   \n10511197  109820.0  2019-06-28  2021-01-15      324000.0         0.124017   \n10511198  109820.0  2019-06-28  2021-01-15      325000.0         0.121763   \n10511199  109820.0  2019-06-28  2021-01-15      326000.0         0.123741   \n10511200  109820.0  2019-06-28  2021-01-15      327000.0         0.121358   \n10511201  109820.0  2019-06-28  2021-01-15      328000.0         0.118798   \n10511202  109820.0  2019-06-28  2021-01-15      329000.0         0.120698   \n10511203  109820.0  2019-06-28  2021-01-15      330000.0         0.117929   \n10511204  109820.0  2019-06-28  2021-01-15      331000.0         0.114946   \n10511205  109820.0  2019-06-28  2021-01-15      332000.0         0.116742   \n10511206  109820.0  2019-06-28  2021-01-15      333000.0         0.113542   \n10511207  109820.0  2019-06-28  2021-01-15      334000.0         0.115300   \n10511208  109820.0  2019-06-28  2021-01-15      335000.0         0.111797   \n10511209  109820.0  2019-06-28  2021-01-15      336000.0         0.113506   \n10511210  109820.0  2019-06-28  2021-01-15      337000.0         0.109600   \n10511211  109820.0  2019-06-28  2021-01-15      338000.0         0.111250   \n\n          open_interest cp_flag  forward_price  best_bid  best_offer  \n0                 538.0       P      93.630113      2.83        2.99  \n1                  42.0       P      93.630113      3.00        3.20  \n2                  44.0       P      93.630113      3.15        3.35  \n3                  42.0       P      93.630113      3.35        3.55  \n4                  74.0       P      93.630113      3.55        3.75  \n5                 646.0       P      93.630113      1.45        1.60  \n6               28058.0       C      93.551318      9.20        9.50  \n7                1654.0       C      93.551318     24.40       25.65  \n8                 216.0       C      93.551318     46.50       47.95  \n9                   1.0       C      93.551318     70.40       73.60  \n10               9476.0       C      93.551318      7.05        7.30  \n11               3611.0       C      93.551318     21.15       21.95  \n12               1077.0       C      93.551318     41.60       42.95  \n13                  0.0       C      93.551318     65.40       68.60  \n14              10511.0       P      93.551318      7.60        7.85  \n15             148168.0       P      93.551318      2.05        2.16  \n16               3313.0       P      93.551318      0.18        0.28  \n17              13263.0       P      93.551318      9.50        9.70  \n18              41050.0       P      93.551318      2.83        2.91  \n19               2937.0       P      93.551318      0.36        0.46  \n20              18871.0       P      93.551318     11.60       11.80  \n21              13705.0       P      93.551318      3.65        3.85  \n22              10169.0       P      93.551318      0.68        0.72  \n23              11115.0       P      93.551318     14.00       14.25  \n24               9817.0       P      93.551318      4.80        4.95  \n25               3509.0       P      93.551318      0.99        1.08  \n26              15334.0       P      93.551318      0.06        0.12  \n27               9456.0       P      93.551318     16.75       17.00  \n28              12614.0       P      93.551318      6.10        6.30  \n29              92934.0       P      93.551318      1.41        1.50  \n...                 ...     ...            ...       ...         ...  \n10511182            0.0       P     292.726141     27.00       32.00  \n10511183         2257.0       P     292.726141     27.50       32.50  \n10511184            0.0       P     292.726141     28.00       33.00  \n10511185            0.0       P     292.726141     28.50       33.50  \n10511186            1.0       P     292.726141     29.00       34.00  \n10511187            1.0       P     292.726141     29.50       34.50  \n10511188          296.0       P     292.726141     30.00       35.00  \n10511189            0.0       P     292.726141     30.50       35.50  \n10511190            0.0       P     292.726141     31.00       36.00  \n10511191            0.0       P     292.726141     32.00       37.00  \n10511192            0.0       P     292.726141     32.50       37.50  \n10511193         3713.0       P     292.726141     33.00       38.00  \n10511194            0.0       P     292.726141     33.50       38.50  \n10511195            1.0       P     292.726141     34.00       39.00  \n10511196            4.0       P     292.726141     35.00       40.00  \n10511197            1.0       P     292.726141     35.50       40.50  \n10511198         1401.0       P     292.726141     36.00       41.00  \n10511199            1.0       P     292.726141     37.00       42.00  \n10511200            0.0       P     292.726141     37.50       42.50  \n10511201         1840.0       P     292.726141     38.00       43.00  \n10511202            1.0       P     292.726141     39.00       44.00  \n10511203         3524.0       P     292.726141     39.50       44.50  \n10511204            0.0       P     292.726141     40.00       45.00  \n10511205            3.0       P     292.726141     41.00       46.00  \n10511206            1.0       P     292.726141     41.50       46.50  \n10511207            3.0       P     292.726141     42.50       47.50  \n10511208         1824.0       P     292.726141     43.00       48.00  \n10511209          851.0       P     292.726141     44.00       49.00  \n10511210            1.0       P     292.726141     44.50       49.50  \n10511211           54.0       P     292.726141     45.50       50.50  \n\n[10511212 rows x 10 columns]",
      "text/html": "<div>\n<style scoped>\n    .dataframe tbody tr th:only-of-type {\n        vertical-align: middle;\n    }\n\n    .dataframe tbody tr th {\n        vertical-align: top;\n    }\n\n    .dataframe thead th {\n        text-align: right;\n    }\n</style>\n<table border=\"1\" class=\"dataframe\">\n  <thead>\n    <tr style=\"text-align: right;\">\n      <th></th>\n      <th>secid</th>\n      <th>date</th>\n      <th>exdate</th>\n      <th>strike_price</th>\n      <th>impl_volatility</th>\n      <th>open_interest</th>\n      <th>cp_flag</th>\n      <th>forward_price</th>\n      <th>best_bid</th>\n      <th>best_offer</th>\n    </tr>\n  </thead>\n  <tbody>\n    <tr>\n      <th>0</th>\n      <td>109820.0</td>\n      <td>2009-06-30</td>\n      <td>2010-12-31</td>\n      <td>60000.0</td>\n      <td>0.372396</td>\n      <td>538.0</td>\n      <td>P</td>\n      <td>93.630113</td>\n      <td>2.83</td>\n      <td>2.99</td>\n    </tr>\n    <tr>\n      <th>1</th>\n      <td>109820.0</td>\n      <td>2009-06-30</td>\n      <td>2010-12-31</td>\n      <td>61000.0</td>\n      <td>0.370599</td>\n      <td>42.0</td>\n      <td>P</td>\n      <td>93.630113</td>\n      <td>3.00</td>\n      <td>3.20</td>\n    </tr>\n    <tr>\n      <th>2</th>\n      <td>109820.0</td>\n      <td>2009-06-30</td>\n      <td>2010-12-31</td>\n      <td>62000.0</td>\n      <td>0.366784</td>\n      <td>44.0</td>\n      <td>P</td>\n      <td>93.630113</td>\n      <td>3.15</td>\n      <td>3.35</td>\n    </tr>\n    <tr>\n      <th>3</th>\n      <td>109820.0</td>\n      <td>2009-06-30</td>\n      <td>2010-12-31</td>\n      <td>63000.0</td>\n      <td>0.364829</td>\n      <td>42.0</td>\n      <td>P</td>\n      <td>93.630113</td>\n      <td>3.35</td>\n      <td>3.55</td>\n    </tr>\n    <tr>\n      <th>4</th>\n      <td>109820.0</td>\n      <td>2009-06-30</td>\n      <td>2010-12-31</td>\n      <td>64000.0</td>\n      <td>0.362576</td>\n      <td>74.0</td>\n      <td>P</td>\n      <td>93.630113</td>\n      <td>3.55</td>\n      <td>3.75</td>\n    </tr>\n    <tr>\n      <th>5</th>\n      <td>109820.0</td>\n      <td>2009-06-30</td>\n      <td>2010-12-31</td>\n      <td>50000.0</td>\n      <td>0.398539</td>\n      <td>646.0</td>\n      <td>P</td>\n      <td>93.630113</td>\n      <td>1.45</td>\n      <td>1.60</td>\n    </tr>\n    <tr>\n      <th>6</th>\n      <td>109820.0</td>\n      <td>2009-06-30</td>\n      <td>2010-12-18</td>\n      <td>95000.0</td>\n      <td>0.225161</td>\n      <td>28058.0</td>\n      <td>C</td>\n      <td>93.551318</td>\n      <td>9.20</td>\n      <td>9.50</td>\n    </tr>\n    <tr>\n      <th>7</th>\n      <td>109820.0</td>\n      <td>2009-06-30</td>\n      <td>2010-12-18</td>\n      <td>70000.0</td>\n      <td>0.238143</td>\n      <td>1654.0</td>\n      <td>C</td>\n      <td>93.551318</td>\n      <td>24.40</td>\n      <td>25.65</td>\n    </tr>\n    <tr>\n      <th>8</th>\n      <td>109820.0</td>\n      <td>2009-06-30</td>\n      <td>2010-12-18</td>\n      <td>45000.0</td>\n      <td>NaN</td>\n      <td>216.0</td>\n      <td>C</td>\n      <td>93.551318</td>\n      <td>46.50</td>\n      <td>47.95</td>\n    </tr>\n    <tr>\n      <th>9</th>\n      <td>109820.0</td>\n      <td>2009-06-30</td>\n      <td>2010-12-18</td>\n      <td>20000.0</td>\n      <td>NaN</td>\n      <td>1.0</td>\n      <td>C</td>\n      <td>93.551318</td>\n      <td>70.40</td>\n      <td>73.60</td>\n    </tr>\n    <tr>\n      <th>10</th>\n      <td>109820.0</td>\n      <td>2009-06-30</td>\n      <td>2010-12-18</td>\n      <td>100000.0</td>\n      <td>0.218972</td>\n      <td>9476.0</td>\n      <td>C</td>\n      <td>93.551318</td>\n      <td>7.05</td>\n      <td>7.30</td>\n    </tr>\n    <tr>\n      <th>11</th>\n      <td>109820.0</td>\n      <td>2009-06-30</td>\n      <td>2010-12-18</td>\n      <td>75000.0</td>\n      <td>0.248563</td>\n      <td>3611.0</td>\n      <td>C</td>\n      <td>93.551318</td>\n      <td>21.15</td>\n      <td>21.95</td>\n    </tr>\n    <tr>\n      <th>12</th>\n      <td>109820.0</td>\n      <td>2009-06-30</td>\n      <td>2010-12-18</td>\n      <td>50000.0</td>\n      <td>NaN</td>\n      <td>1077.0</td>\n      <td>C</td>\n      <td>93.551318</td>\n      <td>41.60</td>\n      <td>42.95</td>\n    </tr>\n    <tr>\n      <th>13</th>\n      <td>109820.0</td>\n      <td>2009-06-30</td>\n      <td>2010-12-18</td>\n      <td>25000.0</td>\n      <td>NaN</td>\n      <td>0.0</td>\n      <td>C</td>\n      <td>93.551318</td>\n      <td>65.40</td>\n      <td>68.60</td>\n    </tr>\n    <tr>\n      <th>14</th>\n      <td>109820.0</td>\n      <td>2009-06-30</td>\n      <td>2010-12-18</td>\n      <td>80000.0</td>\n      <td>0.324857</td>\n      <td>10511.0</td>\n      <td>P</td>\n      <td>93.551318</td>\n      <td>7.60</td>\n      <td>7.85</td>\n    </tr>\n    <tr>\n      <th>15</th>\n      <td>109820.0</td>\n      <td>2009-06-30</td>\n      <td>2010-12-18</td>\n      <td>55000.0</td>\n      <td>0.387730</td>\n      <td>148168.0</td>\n      <td>P</td>\n      <td>93.551318</td>\n      <td>2.05</td>\n      <td>2.16</td>\n    </tr>\n    <tr>\n      <th>16</th>\n      <td>109820.0</td>\n      <td>2009-06-30</td>\n      <td>2010-12-18</td>\n      <td>30000.0</td>\n      <td>0.465249</td>\n      <td>3313.0</td>\n      <td>P</td>\n      <td>93.551318</td>\n      <td>0.18</td>\n      <td>0.28</td>\n    </tr>\n    <tr>\n      <th>17</th>\n      <td>109820.0</td>\n      <td>2009-06-30</td>\n      <td>2010-12-18</td>\n      <td>85000.0</td>\n      <td>0.315783</td>\n      <td>13263.0</td>\n      <td>P</td>\n      <td>93.551318</td>\n      <td>9.50</td>\n      <td>9.70</td>\n    </tr>\n    <tr>\n      <th>18</th>\n      <td>109820.0</td>\n      <td>2009-06-30</td>\n      <td>2010-12-18</td>\n      <td>60000.0</td>\n      <td>0.374907</td>\n      <td>41050.0</td>\n      <td>P</td>\n      <td>93.551318</td>\n      <td>2.83</td>\n      <td>2.91</td>\n    </tr>\n    <tr>\n      <th>19</th>\n      <td>109820.0</td>\n      <td>2009-06-30</td>\n      <td>2010-12-18</td>\n      <td>35000.0</td>\n      <td>0.447692</td>\n      <td>2937.0</td>\n      <td>P</td>\n      <td>93.551318</td>\n      <td>0.36</td>\n      <td>0.46</td>\n    </tr>\n    <tr>\n      <th>20</th>\n      <td>109820.0</td>\n      <td>2009-06-30</td>\n      <td>2010-12-18</td>\n      <td>90000.0</td>\n      <td>0.305931</td>\n      <td>18871.0</td>\n      <td>P</td>\n      <td>93.551318</td>\n      <td>11.60</td>\n      <td>11.80</td>\n    </tr>\n    <tr>\n      <th>21</th>\n      <td>109820.0</td>\n      <td>2009-06-30</td>\n      <td>2010-12-18</td>\n      <td>65000.0</td>\n      <td>0.360330</td>\n      <td>13705.0</td>\n      <td>P</td>\n      <td>93.551318</td>\n      <td>3.65</td>\n      <td>3.85</td>\n    </tr>\n    <tr>\n      <th>22</th>\n      <td>109820.0</td>\n      <td>2009-06-30</td>\n      <td>2010-12-18</td>\n      <td>40000.0</td>\n      <td>0.435282</td>\n      <td>10169.0</td>\n      <td>P</td>\n      <td>93.551318</td>\n      <td>0.68</td>\n      <td>0.72</td>\n    </tr>\n    <tr>\n      <th>23</th>\n      <td>109820.0</td>\n      <td>2009-06-30</td>\n      <td>2010-12-18</td>\n      <td>95000.0</td>\n      <td>0.297457</td>\n      <td>11115.0</td>\n      <td>P</td>\n      <td>93.551318</td>\n      <td>14.00</td>\n      <td>14.25</td>\n    </tr>\n    <tr>\n      <th>24</th>\n      <td>109820.0</td>\n      <td>2009-06-30</td>\n      <td>2010-12-18</td>\n      <td>70000.0</td>\n      <td>0.348618</td>\n      <td>9817.0</td>\n      <td>P</td>\n      <td>93.551318</td>\n      <td>4.80</td>\n      <td>4.95</td>\n    </tr>\n    <tr>\n      <th>25</th>\n      <td>109820.0</td>\n      <td>2009-06-30</td>\n      <td>2010-12-18</td>\n      <td>45000.0</td>\n      <td>0.416711</td>\n      <td>3509.0</td>\n      <td>P</td>\n      <td>93.551318</td>\n      <td>0.99</td>\n      <td>1.08</td>\n    </tr>\n    <tr>\n      <th>26</th>\n      <td>109820.0</td>\n      <td>2009-06-30</td>\n      <td>2010-12-18</td>\n      <td>20000.0</td>\n      <td>0.546584</td>\n      <td>15334.0</td>\n      <td>P</td>\n      <td>93.551318</td>\n      <td>0.06</td>\n      <td>0.12</td>\n    </tr>\n    <tr>\n      <th>27</th>\n      <td>109820.0</td>\n      <td>2009-06-30</td>\n      <td>2010-12-18</td>\n      <td>100000.0</td>\n      <td>0.290096</td>\n      <td>9456.0</td>\n      <td>P</td>\n      <td>93.551318</td>\n      <td>16.75</td>\n      <td>17.00</td>\n    </tr>\n    <tr>\n      <th>28</th>\n      <td>109820.0</td>\n      <td>2009-06-30</td>\n      <td>2010-12-18</td>\n      <td>75000.0</td>\n      <td>0.336923</td>\n      <td>12614.0</td>\n      <td>P</td>\n      <td>93.551318</td>\n      <td>6.10</td>\n      <td>6.30</td>\n    </tr>\n    <tr>\n      <th>29</th>\n      <td>109820.0</td>\n      <td>2009-06-30</td>\n      <td>2010-12-18</td>\n      <td>50000.0</td>\n      <td>0.398219</td>\n      <td>92934.0</td>\n      <td>P</td>\n      <td>93.551318</td>\n      <td>1.41</td>\n      <td>1.50</td>\n    </tr>\n    <tr>\n      <th>...</th>\n      <td>...</td>\n      <td>...</td>\n      <td>...</td>\n      <td>...</td>\n      <td>...</td>\n      <td>...</td>\n      <td>...</td>\n      <td>...</td>\n      <td>...</td>\n      <td>...</td>\n    </tr>\n    <tr>\n      <th>10511182</th>\n      <td>109820.0</td>\n      <td>2019-06-28</td>\n      <td>2021-01-15</td>\n      <td>309000.0</td>\n      <td>0.139542</td>\n      <td>0.0</td>\n      <td>P</td>\n      <td>292.726141</td>\n      <td>27.00</td>\n      <td>32.00</td>\n    </tr>\n    <tr>\n      <th>10511183</th>\n      <td>109820.0</td>\n      <td>2019-06-28</td>\n      <td>2021-01-15</td>\n      <td>310000.0</td>\n      <td>0.138470</td>\n      <td>2257.0</td>\n      <td>P</td>\n      <td>292.726141</td>\n      <td>27.50</td>\n      <td>32.50</td>\n    </tr>\n    <tr>\n      <th>10511184</th>\n      <td>109820.0</td>\n      <td>2019-06-28</td>\n      <td>2021-01-15</td>\n      <td>311000.0</td>\n      <td>0.137345</td>\n      <td>0.0</td>\n      <td>P</td>\n      <td>292.726141</td>\n      <td>28.00</td>\n      <td>33.00</td>\n    </tr>\n    <tr>\n      <th>10511185</th>\n      <td>109820.0</td>\n      <td>2019-06-28</td>\n      <td>2021-01-15</td>\n      <td>312000.0</td>\n      <td>0.136152</td>\n      <td>0.0</td>\n      <td>P</td>\n      <td>292.726141</td>\n      <td>28.50</td>\n      <td>33.50</td>\n    </tr>\n    <tr>\n      <th>10511186</th>\n      <td>109820.0</td>\n      <td>2019-06-28</td>\n      <td>2021-01-15</td>\n      <td>313000.0</td>\n      <td>0.134883</td>\n      <td>1.0</td>\n      <td>P</td>\n      <td>292.726141</td>\n      <td>29.00</td>\n      <td>34.00</td>\n    </tr>\n    <tr>\n      <th>10511187</th>\n      <td>109820.0</td>\n      <td>2019-06-28</td>\n      <td>2021-01-15</td>\n      <td>314000.0</td>\n      <td>0.133537</td>\n      <td>1.0</td>\n      <td>P</td>\n      <td>292.726141</td>\n      <td>29.50</td>\n      <td>34.50</td>\n    </tr>\n    <tr>\n      <th>10511188</th>\n      <td>109820.0</td>\n      <td>2019-06-28</td>\n      <td>2021-01-15</td>\n      <td>315000.0</td>\n      <td>0.132116</td>\n      <td>296.0</td>\n      <td>P</td>\n      <td>292.726141</td>\n      <td>30.00</td>\n      <td>35.00</td>\n    </tr>\n    <tr>\n      <th>10511189</th>\n      <td>109820.0</td>\n      <td>2019-06-28</td>\n      <td>2021-01-15</td>\n      <td>316000.0</td>\n      <td>0.130613</td>\n      <td>0.0</td>\n      <td>P</td>\n      <td>292.726141</td>\n      <td>30.50</td>\n      <td>35.50</td>\n    </tr>\n    <tr>\n      <th>10511190</th>\n      <td>109820.0</td>\n      <td>2019-06-28</td>\n      <td>2021-01-15</td>\n      <td>317000.0</td>\n      <td>0.129045</td>\n      <td>0.0</td>\n      <td>P</td>\n      <td>292.726141</td>\n      <td>31.00</td>\n      <td>36.00</td>\n    </tr>\n    <tr>\n      <th>10511191</th>\n      <td>109820.0</td>\n      <td>2019-06-28</td>\n      <td>2021-01-15</td>\n      <td>318000.0</td>\n      <td>0.131287</td>\n      <td>0.0</td>\n      <td>P</td>\n      <td>292.726141</td>\n      <td>32.00</td>\n      <td>37.00</td>\n    </tr>\n    <tr>\n      <th>10511192</th>\n      <td>109820.0</td>\n      <td>2019-06-28</td>\n      <td>2021-01-15</td>\n      <td>319000.0</td>\n      <td>0.129633</td>\n      <td>0.0</td>\n      <td>P</td>\n      <td>292.726141</td>\n      <td>32.50</td>\n      <td>37.50</td>\n    </tr>\n    <tr>\n      <th>10511193</th>\n      <td>109820.0</td>\n      <td>2019-06-28</td>\n      <td>2021-01-15</td>\n      <td>320000.0</td>\n      <td>0.127902</td>\n      <td>3713.0</td>\n      <td>P</td>\n      <td>292.726141</td>\n      <td>33.00</td>\n      <td>38.00</td>\n    </tr>\n    <tr>\n      <th>10511194</th>\n      <td>109820.0</td>\n      <td>2019-06-28</td>\n      <td>2021-01-15</td>\n      <td>321000.0</td>\n      <td>0.126050</td>\n      <td>0.0</td>\n      <td>P</td>\n      <td>292.726141</td>\n      <td>33.50</td>\n      <td>38.50</td>\n    </tr>\n    <tr>\n      <th>10511195</th>\n      <td>109820.0</td>\n      <td>2019-06-28</td>\n      <td>2021-01-15</td>\n      <td>322000.0</td>\n      <td>0.124077</td>\n      <td>1.0</td>\n      <td>P</td>\n      <td>292.726141</td>\n      <td>34.00</td>\n      <td>39.00</td>\n    </tr>\n    <tr>\n      <th>10511196</th>\n      <td>109820.0</td>\n      <td>2019-06-28</td>\n      <td>2021-01-15</td>\n      <td>323000.0</td>\n      <td>0.126153</td>\n      <td>4.0</td>\n      <td>P</td>\n      <td>292.726141</td>\n      <td>35.00</td>\n      <td>40.00</td>\n    </tr>\n    <tr>\n      <th>10511197</th>\n      <td>109820.0</td>\n      <td>2019-06-28</td>\n      <td>2021-01-15</td>\n      <td>324000.0</td>\n      <td>0.124017</td>\n      <td>1.0</td>\n      <td>P</td>\n      <td>292.726141</td>\n      <td>35.50</td>\n      <td>40.50</td>\n    </tr>\n    <tr>\n      <th>10511198</th>\n      <td>109820.0</td>\n      <td>2019-06-28</td>\n      <td>2021-01-15</td>\n      <td>325000.0</td>\n      <td>0.121763</td>\n      <td>1401.0</td>\n      <td>P</td>\n      <td>292.726141</td>\n      <td>36.00</td>\n      <td>41.00</td>\n    </tr>\n    <tr>\n      <th>10511199</th>\n      <td>109820.0</td>\n      <td>2019-06-28</td>\n      <td>2021-01-15</td>\n      <td>326000.0</td>\n      <td>0.123741</td>\n      <td>1.0</td>\n      <td>P</td>\n      <td>292.726141</td>\n      <td>37.00</td>\n      <td>42.00</td>\n    </tr>\n    <tr>\n      <th>10511200</th>\n      <td>109820.0</td>\n      <td>2019-06-28</td>\n      <td>2021-01-15</td>\n      <td>327000.0</td>\n      <td>0.121358</td>\n      <td>0.0</td>\n      <td>P</td>\n      <td>292.726141</td>\n      <td>37.50</td>\n      <td>42.50</td>\n    </tr>\n    <tr>\n      <th>10511201</th>\n      <td>109820.0</td>\n      <td>2019-06-28</td>\n      <td>2021-01-15</td>\n      <td>328000.0</td>\n      <td>0.118798</td>\n      <td>1840.0</td>\n      <td>P</td>\n      <td>292.726141</td>\n      <td>38.00</td>\n      <td>43.00</td>\n    </tr>\n    <tr>\n      <th>10511202</th>\n      <td>109820.0</td>\n      <td>2019-06-28</td>\n      <td>2021-01-15</td>\n      <td>329000.0</td>\n      <td>0.120698</td>\n      <td>1.0</td>\n      <td>P</td>\n      <td>292.726141</td>\n      <td>39.00</td>\n      <td>44.00</td>\n    </tr>\n    <tr>\n      <th>10511203</th>\n      <td>109820.0</td>\n      <td>2019-06-28</td>\n      <td>2021-01-15</td>\n      <td>330000.0</td>\n      <td>0.117929</td>\n      <td>3524.0</td>\n      <td>P</td>\n      <td>292.726141</td>\n      <td>39.50</td>\n      <td>44.50</td>\n    </tr>\n    <tr>\n      <th>10511204</th>\n      <td>109820.0</td>\n      <td>2019-06-28</td>\n      <td>2021-01-15</td>\n      <td>331000.0</td>\n      <td>0.114946</td>\n      <td>0.0</td>\n      <td>P</td>\n      <td>292.726141</td>\n      <td>40.00</td>\n      <td>45.00</td>\n    </tr>\n    <tr>\n      <th>10511205</th>\n      <td>109820.0</td>\n      <td>2019-06-28</td>\n      <td>2021-01-15</td>\n      <td>332000.0</td>\n      <td>0.116742</td>\n      <td>3.0</td>\n      <td>P</td>\n      <td>292.726141</td>\n      <td>41.00</td>\n      <td>46.00</td>\n    </tr>\n    <tr>\n      <th>10511206</th>\n      <td>109820.0</td>\n      <td>2019-06-28</td>\n      <td>2021-01-15</td>\n      <td>333000.0</td>\n      <td>0.113542</td>\n      <td>1.0</td>\n      <td>P</td>\n      <td>292.726141</td>\n      <td>41.50</td>\n      <td>46.50</td>\n    </tr>\n    <tr>\n      <th>10511207</th>\n      <td>109820.0</td>\n      <td>2019-06-28</td>\n      <td>2021-01-15</td>\n      <td>334000.0</td>\n      <td>0.115300</td>\n      <td>3.0</td>\n      <td>P</td>\n      <td>292.726141</td>\n      <td>42.50</td>\n      <td>47.50</td>\n    </tr>\n    <tr>\n      <th>10511208</th>\n      <td>109820.0</td>\n      <td>2019-06-28</td>\n      <td>2021-01-15</td>\n      <td>335000.0</td>\n      <td>0.111797</td>\n      <td>1824.0</td>\n      <td>P</td>\n      <td>292.726141</td>\n      <td>43.00</td>\n      <td>48.00</td>\n    </tr>\n    <tr>\n      <th>10511209</th>\n      <td>109820.0</td>\n      <td>2019-06-28</td>\n      <td>2021-01-15</td>\n      <td>336000.0</td>\n      <td>0.113506</td>\n      <td>851.0</td>\n      <td>P</td>\n      <td>292.726141</td>\n      <td>44.00</td>\n      <td>49.00</td>\n    </tr>\n    <tr>\n      <th>10511210</th>\n      <td>109820.0</td>\n      <td>2019-06-28</td>\n      <td>2021-01-15</td>\n      <td>337000.0</td>\n      <td>0.109600</td>\n      <td>1.0</td>\n      <td>P</td>\n      <td>292.726141</td>\n      <td>44.50</td>\n      <td>49.50</td>\n    </tr>\n    <tr>\n      <th>10511211</th>\n      <td>109820.0</td>\n      <td>2019-06-28</td>\n      <td>2021-01-15</td>\n      <td>338000.0</td>\n      <td>0.111250</td>\n      <td>54.0</td>\n      <td>P</td>\n      <td>292.726141</td>\n      <td>45.50</td>\n      <td>50.50</td>\n    </tr>\n  </tbody>\n</table>\n<p>10511212 rows × 10 columns</p>\n</div>"
     },
     "metadata": {},
     "execution_count": 16
    }
   ],
   "source": [
    "sp[0]"
   ]
  },
  {
   "cell_type": "code",
   "execution_count": null,
   "metadata": {},
   "outputs": [],
   "source": []
  }
 ],
 "metadata": {
  "colab": {
   "name": "Pinning.ipynb",
   "provenance": []
  },
  "kernelspec": {
   "display_name": "Python 3",
   "language": "python",
   "name": "python3"
  },
  "language_info": {
   "codemirror_mode": {
    "name": "ipython",
    "version": 3
   },
   "file_extension": ".py",
   "mimetype": "text/x-python",
   "name": "python",
   "nbconvert_exporter": "python",
   "pygments_lexer": "ipython3",
   "version": "3.7.3-final"
  }
 },
 "nbformat": 4,
 "nbformat_minor": 1
}